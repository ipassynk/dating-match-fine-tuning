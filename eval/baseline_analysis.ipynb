{
 "cells": [
  {
   "cell_type": "code",
   "execution_count": null,
   "id": "743263f9",
   "metadata": {
    "vscode": {
     "languageId": "plaintext"
    }
   },
   "outputs": [],
   "source": [
    "!pip install sentence_transformers\n",
    "!pip install sklearn\n",
    "!pip install umap\n",
    "!pip install hdbscan\n",
    "!pip install matplotlib\n",
    "!pip install plotly\n",
    "!pip install scipy"
   ]
  },
  {
   "cell_type": "code",
   "execution_count": null,
   "id": "a1871e86",
   "metadata": {
    "vscode": {
     "languageId": "plaintext"
    }
   },
   "outputs": [],
   "source": [
    "from sentence_transformers import SentenceTransformer\n",
    "from sklearn.metrics.pairwise import cosine_similarity\n",
    "import json\n",
    "import numpy as np\n",
    "import pandas as pd"
   ]
  },
  {
   "cell_type": "code",
   "execution_count": null,
   "id": "43f3c539",
   "metadata": {
    "vscode": {
     "languageId": "plaintext"
    }
   },
   "outputs": [],
   "source": [
    "model_name ='all-MiniLM-L6-v2'\n",
    "model = SentenceTransformer(model_name)"
   ]
  },
  {
   "cell_type": "code",
   "execution_count": null,
   "id": "3018efbe",
   "metadata": {
    "vscode": {
     "languageId": "plaintext"
    }
   },
   "outputs": [],
   "source": [
    "def read_file(file_name):\n",
    "    positives = [];\n",
    "    negatives = [];\n",
    "\n",
    "    with open(file_name, 'r') as data:\n",
    "        lines = data.readlines()\n",
    "        for line in lines:\n",
    "            item = json.loads(line);\n",
    "            sentence1 = item['text_1'].split(': ')[1]\n",
    "            sentence2 = item['text_2'].split(': ')[1]\n",
    "            label = item['label']\n",
    "            el = {'sentence1': sentence1, sentence2: 'sentence2'}\n",
    "            if label == 1: \n",
    "                positives.add({'sentence1) \n",
    "            else: \n",
    "                negatives.add(el)\n",
    "    return  pd.DataFrame(positives), pd.DataFrame(positives)\n",
    "\n",
    "positives, negatives = read_file(\"data_pairs.jsonl\");\n",
    "\n",
    "sentences1 = [item['sentence1'] for item in positives];\n",
    "sentences2 = [item['sentence2'] for item in positives];\n",
    "embeddings1_positives = model.encode(sentences1, convert_to_numpy=True, show_progress_bar=True)\n",
    "embeddings2_positives = model.encode(sentences2, convert_to_numpy=True, show_progress_bar=True)\n",
    "similarity_positives_matrix = cosine_similarity(embeddings1_positives, embeddings2_positives)\n",
    "similarity_positives = np.diag(similarity_positives_matrix)\n",
    "\n",
    "sentences1 = [item['sentence1'] for item in negatives];\n",
    "sentences2 = [item['sentence2'] for item in negatives];\n",
    "embeddings1_negatives = model.encode(sentences1, convert_to_numpy=True, show_progress_bar=True)\n",
    "embeddings2_negatives = model.encode(sentences2, convert_to_numpy=True, show_progress_bar=True)\n",
    "similarity_negatives_matrix = cosine_similarity(embeddings1_negatives, embeddings2_negatives)\n",
    "similarity_negatives = np.diag(similarity_negatives_matrix)"
   ]
  },
  {
   "cell_type": "markdown",
   "id": "7a98b30a",
   "metadata": {},
   "source": [
    "t-test to check if the average similarity of sim_positive is significantly higher than that of sim_negative."
   ]
  },
  {
   "cell_type": "code",
   "execution_count": null,
   "id": "7ed48e38",
   "metadata": {
    "vscode": {
     "languageId": "plaintext"
    }
   },
   "outputs": [],
   "source": [
    "# Independent t-test\n",
    "t_stat, p_value = stats.ttest_ind(similarity_positives, similarity_negatives)\n",
    "print(\"t-statistic:\", t_stat)\n",
    "print(\"p-value:\", p_value)"
   ]
  },
  {
   "cell_type": "markdown",
   "id": "dc7d5fbb",
   "metadata": {},
   "source": [
    "Even if the difference is statistically significant, you also want to know how big it is. That’s what Cohen’s d measures:"
   ]
  },
  {
   "cell_type": "code",
   "execution_count": null,
   "id": "3e38dd47",
   "metadata": {
    "vscode": {
     "languageId": "plaintext"
    }
   },
   "outputs": [],
   "source": [
    "def cohens_d(a, b):\n",
    "    mean_diff = np.mean(a) - np.mean(b)\n",
    "    pooled_std = np.sqrt((np.std(a, ddof=1)**2 + np.std(b, ddof=1)**2) / 2)\n",
    "    return mean_diff / pooled_std\n",
    "\n",
    "d = cohens_d(similarity_positives, similarity_negatives)\n",
    "print(\"Cohen's d:\", d)"
   ]
  },
  {
   "cell_type": "code",
   "execution_count": null,
   "id": "68b73bbe",
   "metadata": {
    "vscode": {
     "languageId": "plaintext"
    }
   },
   "outputs": [],
   "source": []
  },
  {
   "cell_type": "code",
   "execution_count": null,
   "id": "6039956f",
   "metadata": {
    "vscode": {
     "languageId": "plaintext"
    }
   },
   "outputs": [],
   "source": []
  }
 ],
 "metadata": {
  "language_info": {
   "name": "python"
  }
 },
 "nbformat": 4,
 "nbformat_minor": 5
}
