{
  "nbformat": 4,
  "nbformat_minor": 0,
  "metadata": {
    "colab": {
      "provenance": [],
      "authorship_tag": "ABX9TyNHaceBL6xWaURKKDGvkDrt",
      "include_colab_link": true
    },
    "kernelspec": {
      "name": "python3",
      "display_name": "Python 3"
    },
    "language_info": {
      "name": "python"
    }
  },
  "cells": [
    {
      "cell_type": "markdown",
      "metadata": {
        "id": "view-in-github",
        "colab_type": "text"
      },
      "source": [
        "<a href=\"https://colab.research.google.com/github/ipassynk/dating-match-fine-tuning/blob/main/training/simple_trainer.ipynb\" target=\"_parent\"><img src=\"https://colab.research.google.com/assets/colab-badge.svg\" alt=\"Open In Colab\"/></a>"
      ]
    },
    {
      "cell_type": "code",
      "execution_count": null,
      "metadata": {
        "id": "Xq6vCd8fSPVi"
      },
      "outputs": [],
      "source": [
        "!pip install  torch\n",
        "!pip install  datasets\n",
        "!pip install -U sentence-transformers"
      ]
    },
    {
      "cell_type": "code",
      "source": [
        "import os\n",
        "os.environ[\"WANDB_DISABLED\"] = \"true\""
      ],
      "metadata": {
        "id": "O8o_JzRK18Dr"
      },
      "execution_count": null,
      "outputs": []
    },
    {
      "cell_type": "code",
      "source": [
        "from sentence_transformers import SentenceTransformer, SentenceTransformerTrainer, losses, SentenceTransformerTrainingArguments\n",
        "from sentence_transformers.evaluation import EmbeddingSimilarityEvaluator\n",
        "from datasets import load_dataset, Dataset\n",
        "import json"
      ],
      "metadata": {
        "id": "rypHhoL2TuzB"
      },
      "execution_count": null,
      "outputs": []
    },
    {
      "cell_type": "code",
      "source": [
        "model_name = \"all-MiniLM-L6-v2\"\n",
        "model = SentenceTransformer(model_name)"
      ],
      "metadata": {
        "id": "nURj08BugJbT"
      },
      "execution_count": null,
      "outputs": []
    },
    {
      "cell_type": "code",
      "source": [
        "def load_data(file_name):\n",
        "  data_elements=[]\n",
        "  with open(file_name, 'r') as data:\n",
        "      lines = data.readlines()\n",
        "      for line in lines:\n",
        "          data = json.loads(line)\n",
        "          sentence1 = data['text_1'].split(': ')[1]\n",
        "          sentence2 = data['text_2'].split(': ')[1]\n",
        "          labels = data['label']\n",
        "          el = {\n",
        "              'sentence1': sentence1,\n",
        "              'sentence2': sentence2,\n",
        "              'labels': labels\n",
        "          }\n",
        "          data_elements.append(el)\n",
        "  return Dataset.from_list(data_elements)\n",
        "\n",
        "train_dataset=load_data(\"dating_pairs.jsonl\")\n",
        "eval_dataset=load_data(\"eval_pairs.jsonl\")\n",
        "\n",
        "print(train_dataset[0])\n",
        "print(eval_dataset[0])"
      ],
      "metadata": {
        "id": "0R_SZZpYcSgE"
      },
      "execution_count": null,
      "outputs": []
    },
    {
      "cell_type": "code",
      "source": [
        "sentences1 = [el['sentence1'] for el in eval_dataset]\n",
        "sentences2 = [el['sentence2'] for el in eval_dataset]\n",
        "scores = [el['labels'] for el in eval_dataset]\n",
        "\n",
        "evaluator = EmbeddingSimilarityEvaluator(\n",
        "              sentences1=sentences1,\n",
        "              sentences2=sentences2,\n",
        "              scores=scores,\n",
        "              show_progress_bar=True)"
      ],
      "metadata": {
        "id": "Ql7BwwRtT8IG"
      },
      "execution_count": null,
      "outputs": []
    },
    {
      "cell_type": "code",
      "source": [
        "args = SentenceTransformerTrainingArguments(\n",
        "    num_train_epochs=4,\n",
        "    eval_strategy=\"steps\",\n",
        "    eval_steps=500,\n",
        "    warmup_steps=100,\n",
        "    load_best_model_at_end=True,\n",
        "    metric_for_best_model=\"all_nli_cosine_accuracy\",\n",
        "    optim=\"adamw_torch\",\n",
        "    output_dir=\"models/dating_model\",\n",
        "    learning_rate=2e-5\n",
        ")\n",
        "\n",
        "trainer = SentenceTransformerTrainer(\n",
        "    model=model,\n",
        "    eval_dataset=eval_dataset,\n",
        "    train_dataset=train_dataset,\n",
        "    loss=losses.CosineSimilarityLoss(model=model),\n",
        "    evaluator=evaluator,\n",
        "    args=args,\n",
        ")\n",
        "\n",
        "trainer.train()\n",
        "\n",
        "model.save_pretrained(\"models/dating_model\")"
      ],
      "metadata": {
        "id": "MXyiT9LJS0lx"
      },
      "execution_count": null,
      "outputs": []
    },
    {
      "cell_type": "markdown",
      "source": [],
      "metadata": {
        "id": "EbfMFhvbSzTC"
      }
    }
  ]
}