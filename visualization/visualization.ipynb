{
 "cells": [
  {
   "cell_type": "code",
   "execution_count": null,
   "id": "67e3e58a",
   "metadata": {
    "vscode": {
     "languageId": "plaintext"
    }
   },
   "outputs": [],
   "source": [
    "!pip install matplotlib\n",
    "!pip install plotly\n",
    "!pip install sentence_transformers\n",
    "!pip install panda\n",
    "!pip install sklearn"
   ]
  },
  {
   "cell_type": "code",
   "execution_count": null,
   "id": "5e790b46",
   "metadata": {
    "vscode": {
     "languageId": "plaintext"
    }
   },
   "outputs": [],
   "source": [
    "import panda as pd\n",
    "from sentence_transformers import SentenceTransformer\n",
    "from sklearn.metrics.pairwise import cosine_similarity\n",
    "import matplotlib.pyplot as plt"
   ]
  },
  {
   "cell_type": "code",
   "execution_count": null,
   "id": "9210db33",
   "metadata": {
    "vscode": {
     "languageId": "plaintext"
    }
   },
   "outputs": [],
   "source": [
    "sentence1 = [];\n",
    "sentence2 = [];\n",
    "label = [];\n",
    "with open(\"eval_pairs.jsonl\", \"r\") as data:\n",
    "    items = data.loads()\n",
    "    for item in items:\n",
    "        sentence1.append(item['sentence1']);\n",
    "        sentence2.append(item['sentence2']);\n",
    "        label.append(item['label']);\n",
    "eval_pd = pd.DataFrame({\n",
    "    \"sentence1\", sentence1\n",
    "    \"sentence2\", sentence2,\n",
    "    \"label\": label \n",
    "})"
   ]
  },
  {
   "cell_type": "code",
   "execution_count": null,
   "id": "346f231b",
   "metadata": {
    "vscode": {
     "languageId": "plaintext"
    }
   },
   "outputs": [],
   "source": [
    "def plot_results(model):\n",
    "    emb1 = model.encode(eval_pd['sentence1'].tolist(), convert_to_tensor=True)\n",
    "    emb2 = model.encode(eval_pd['sentence2'].tolist(), convert_to_tensor=True)\n",
    "    sim_matrix = cosine_similarity(emb1, emb2)\n",
    "    similarities = np.diag(sim_matrix)\n",
    "    eval_df[\"similarity\"] = similarities.cpu().numpy()\n",
    "    \n",
    "    plt.scatter(eval_df[\"label\"], eval_df[\"similarity\"])\n",
    "    plt.xlabel(\"Label (0=different, 1=similar)\")\n",
    "    plt.ylabel(\"Cosine Similarity\")\n",
    "    plt.title(\"Sentence Similarity\")\n",
    "    plt.show()\n"
   ]
  },
  {
   "cell_type": "code",
   "execution_count": null,
   "id": "199145a6",
   "metadata": {
    "vscode": {
     "languageId": "plaintext"
    }
   },
   "outputs": [],
   "source": [
    "model_name ='all-MiniLM-L6-v2'\n",
    "model = SentenceTransformer(model_name)\n",
    "plot_results(model)"
   ]
  },
  {
   "cell_type": "code",
   "execution_count": null,
   "id": "b83ddc8c",
   "metadata": {
    "vscode": {
     "languageId": "plaintext"
    }
   },
   "outputs": [],
   "source": [
    "model_path ='model/dating_model'\n",
    "model = SentenceTransformer(model_path)\n",
    "plot_results(model)"
   ]
  }
 ],
 "metadata": {
  "language_info": {
   "name": "python"
  }
 },
 "nbformat": 4,
 "nbformat_minor": 5
}
