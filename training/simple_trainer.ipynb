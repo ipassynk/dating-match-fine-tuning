{
  "cells": [
    {
      "cell_type": "markdown",
      "metadata": {
        "id": "view-in-github",
        "colab_type": "text"
      },
      "source": [
        "<a href=\"https://colab.research.google.com/github/ipassynk/dating-match-fine-tuning/blob/main/training/simple_trainer.ipynb\" target=\"_parent\"><img src=\"https://colab.research.google.com/assets/colab-badge.svg\" alt=\"Open In Colab\"/></a>"
      ]
    },
    {
      "cell_type": "code",
      "execution_count": null,
      "metadata": {
        "id": "Xq6vCd8fSPVi"
      },
      "outputs": [],
      "source": [
        "!pip install datasets\n",
        "!pip install sentence-transformers"
      ]
    },
    {
      "cell_type": "code",
      "execution_count": null,
      "metadata": {
        "id": "O8o_JzRK18Dr"
      },
      "outputs": [],
      "source": [
        "import os\n",
        "os.environ[\"WANDB_DISABLED\"] = \"true\""
      ]
    },
    {
      "cell_type": "code",
      "execution_count": null,
      "metadata": {
        "id": "rypHhoL2TuzB"
      },
      "outputs": [],
      "source": [
        "from sentence_transformers import SentenceTransformer, SentenceTransformerTrainer, losses, SentenceTransformerTrainingArguments\n",
        "from sentence_transformers.evaluation import EmbeddingSimilarityEvaluator\n",
        "from datasets import load_dataset, Dataset\n",
        "import json"
      ]
    },
    {
      "cell_type": "code",
      "execution_count": null,
      "metadata": {
        "id": "nURj08BugJbT"
      },
      "outputs": [],
      "source": [
        "model_name = \"all-MiniLM-L6-v2\"\n",
        "model = SentenceTransformer(model_name)"
      ]
    },
    {
      "cell_type": "code",
      "execution_count": null,
      "metadata": {
        "id": "0R_SZZpYcSgE"
      },
      "outputs": [],
      "source": [
        "def load_data(file_name):\n",
        "  data_elements=[]\n",
        "  with open(file_name, 'r') as data:\n",
        "      lines = data.readlines()\n",
        "      for line in lines:\n",
        "          item = json.loads(line)\n",
        "          sentence1 = item['text_1'].split(': ')[1]\n",
        "          sentence2 = item['text_2'].split(': ')[1]\n",
        "          labels = item['label']\n",
        "          similarity_score = 1.0 if item['label'] == 0 else 0.0\n",
        "          data_element = {\n",
        "              'sentence1': sentence1,\n",
        "              'sentence2': sentence2,\n",
        "              'label': similarity_score  # Changed from 'labels' to 'label'\n",
        "          }\n",
        "          data_elements.append(data_element)\n",
        "  return Dataset.from_list(data_elements)\n",
        "\n",
        "train_dataset=load_data(\"dating_pairs.jsonl\")\n",
        "eval_dataset=load_data(\"eval_pairs.jsonl\")\n",
        "\n",
        "print(\"Train dataset sample:\")\n",
        "print(train_dataset[0])\n",
        "print(f\"Train dataset type: {type(train_dataset[0])}\")\n",
        "print(f\"Train dataset keys: {train_dataset[0].keys()}\")\n",
        "print(\"\\nEval dataset sample:\")\n",
        "print(eval_dataset[0])\n",
        "print(f\"Eval dataset type: {type(eval_dataset[0])}\")\n",
        "print(f\"Eval dataset keys: {eval_dataset[0].keys()}\")"
      ]
    },
    {
      "cell_type": "code",
      "execution_count": null,
      "metadata": {
        "id": "Ql7BwwRtT8IG"
      },
      "outputs": [],
      "source": [
        "sentences1 = [el['sentence1'] for el in eval_dataset]\n",
        "sentences2 = [el['sentence2'] for el in eval_dataset]\n",
        "scores = [el['label'] for el in eval_dataset]\n",
        "\n",
        "evaluator = EmbeddingSimilarityEvaluator(\n",
        "              sentences1=sentences1,\n",
        "              sentences2=sentences2,\n",
        "              scores=scores,\n",
        "              show_progress_bar=True)"
      ]
    },
    {
      "cell_type": "code",
      "execution_count": null,
      "metadata": {
        "id": "jnFsi9lK-agK"
      },
      "outputs": [],
      "source": [
        "args = SentenceTransformerTrainingArguments(\n",
        "    num_train_epochs=4,\n",
        "    eval_strategy=\"steps\",\n",
        "    eval_steps=500,\n",
        "    warmup_steps=100,\n",
        "    load_best_model_at_end=True,\n",
        "    metric_for_best_model=\"spearman_cosine\",\n",
        "    optim=\"adamw_torch\",\n",
        "    output_dir=\"models/dating_model_training\",\n",
        "    learning_rate=2e-5\n",
        ")\n",
        "\n",
        "trainer = SentenceTransformerTrainer(\n",
        "    model=model,\n",
        "    eval_dataset=eval_dataset,\n",
        "    train_dataset=train_dataset,\n",
        "    loss=losses.CosineSimilarityLoss(model=model),\n",
        "    evaluator=evaluator,\n",
        "    args=args,\n",
        ")\n",
        "\n",
        "trainer.train()\n",
        "\n",
        "model.save_pretrained(\"models/dating_model\")"
      ]
    },
    {
      "cell_type": "markdown",
      "metadata": {
        "id": "EbfMFhvbSzTC"
      },
      "source": []
    },
    {
      "cell_type": "code",
      "source": [
        "!zip -r dating_model.zip models/dating_model/\n",
        "from google.colab import files\n",
        "files.download(\"dating_model.zip\")"
      ],
      "metadata": {
        "id": "7zdckm1kobxO"
      },
      "execution_count": null,
      "outputs": []
    }
  ],
  "metadata": {
    "colab": {
      "provenance": [],
      "include_colab_link": true
    },
    "kernelspec": {
      "display_name": "Python 3",
      "name": "python3"
    },
    "language_info": {
      "name": "python"
    }
  },
  "nbformat": 4,
  "nbformat_minor": 0
}