{
  "cells": [
    {
      "cell_type": "markdown",
      "metadata": {
        "id": "view-in-github",
        "colab_type": "text"
      },
      "source": [
        "<a href=\"https://colab.research.google.com/github/ipassynk/dating-match-fine-tuning/blob/main/visualization/visualization.ipynb\" target=\"_parent\"><img src=\"https://colab.research.google.com/assets/colab-badge.svg\" alt=\"Open In Colab\"/></a>"
      ]
    },
    {
      "cell_type": "code",
      "execution_count": null,
      "id": "67e3e58a",
      "metadata": {
        "vscode": {
          "languageId": "plaintext"
        },
        "id": "67e3e58a"
      },
      "outputs": [],
      "source": [
        "!pip install matplotlib\n",
        "!pip install plotly\n",
        "!pip install sentence_transformers\n",
        "!pip install pandas\n",
        "!pip install sklearn"
      ]
    },
    {
      "cell_type": "code",
      "execution_count": null,
      "id": "5e790b46",
      "metadata": {
        "vscode": {
          "languageId": "plaintext"
        },
        "id": "5e790b46"
      },
      "outputs": [],
      "source": [
        "import pandas as pd\n",
        "from sentence_transformers import SentenceTransformer\n",
        "from sklearn.metrics.pairwise import cosine_similarity\n",
        "import matplotlib.pyplot as plt\n",
        "import numpy as np\n",
        "import json"
      ]
    },
    {
      "cell_type": "code",
      "execution_count": null,
      "id": "9210db33",
      "metadata": {
        "vscode": {
          "languageId": "plaintext"
        },
        "id": "9210db33"
      },
      "outputs": [],
      "source": [
        "from os import linesep\n",
        "sentence1 = [];\n",
        "sentence2 = [];\n",
        "label = [];\n",
        "with open(\"eval_pairs.jsonl\", \"r\") as data:\n",
        "    lines = data.readlines()\n",
        "    for line in lines:\n",
        "        el = json.loads(line)\n",
        "        sentence1.append(el['text_1']);\n",
        "        sentence2.append(el['text_2']);\n",
        "        label.append(el['label']);\n",
        "\n",
        "eval_df = pd.DataFrame({\n",
        "    \"sentence1\": sentence1,\n",
        "    \"sentence2\": sentence2,\n",
        "    \"label\": label\n",
        "})"
      ]
    },
    {
      "cell_type": "code",
      "execution_count": null,
      "id": "346f231b",
      "metadata": {
        "vscode": {
          "languageId": "plaintext"
        },
        "id": "346f231b"
      },
      "outputs": [],
      "source": [
        "def plot_results(model, model_name):\n",
        "    emb1 = model.encode(eval_df['sentence1'].tolist(), convert_to_tensor=True)\n",
        "    emb2 = model.encode(eval_df['sentence2'].tolist(), convert_to_tensor=True)\n",
        "    sim_matrix = cosine_similarity(emb1, emb2)\n",
        "    similarities = np.diag(sim_matrix)\n",
        "    eval_df[\"similarity\"] = similarities\n",
        "\n",
        "    plt.figure(figsize= (15, 6))\n",
        "    plt.plot(eval_df[\"similarity\"], label='Predicted')\n",
        "    plt.plot(eval_df[\"label\"], label='Actual')\n",
        "    plt.legend()\n",
        "    plt.title (f\"Predicted vs Actual in {model_name}\")\n",
        "    plt.show()"
      ]
    },
    {
      "cell_type": "code",
      "execution_count": null,
      "id": "199145a6",
      "metadata": {
        "vscode": {
          "languageId": "plaintext"
        },
        "id": "199145a6"
      },
      "outputs": [],
      "source": [
        "model_name ='all-MiniLM-L6-v2'\n",
        "model_base = SentenceTransformer(model_name)\n"
      ]
    },
    {
      "cell_type": "code",
      "source": [
        "plot_results(model_base, \"Base\")"
      ],
      "metadata": {
        "id": "RCC39m-ZWKlt"
      },
      "id": "RCC39m-ZWKlt",
      "execution_count": null,
      "outputs": []
    },
    {
      "cell_type": "code",
      "source": [
        "!unzip dating_model.zip"
      ],
      "metadata": {
        "id": "QHJ0Yd2BWqpA"
      },
      "id": "QHJ0Yd2BWqpA",
      "execution_count": null,
      "outputs": []
    },
    {
      "cell_type": "code",
      "execution_count": null,
      "id": "b83ddc8c",
      "metadata": {
        "vscode": {
          "languageId": "plaintext"
        },
        "id": "b83ddc8c"
      },
      "outputs": [],
      "source": [
        "model_path ='models/dating_model'\n",
        "model_fined = SentenceTransformer(model_path)"
      ]
    },
    {
      "cell_type": "code",
      "source": [
        "plot_results(model_fined, \"Fined tuned\")"
      ],
      "metadata": {
        "id": "7ZK5H7J0WXIV"
      },
      "id": "7ZK5H7J0WXIV",
      "execution_count": null,
      "outputs": []
    }
  ],
  "metadata": {
    "language_info": {
      "name": "python"
    },
    "colab": {
      "provenance": [],
      "include_colab_link": true
    },
    "kernelspec": {
      "name": "python3",
      "display_name": "Python 3"
    }
  },
  "nbformat": 4,
  "nbformat_minor": 5
}